{
 "cells": [
  {
   "cell_type": "markdown",
   "metadata": {},
   "source": [
    "# Disclaimer\n",
    "\n",
    "*Functions called that do not respect a __require callback__ in solidity display as errors in Jupyter Notebook, please only refer to the __message string__ at the beginning of the error message which represents what the customer would see (i.e. exceeding goal amount by X amount.*"
   ]
  },
  {
   "cell_type": "markdown",
   "metadata": {},
   "source": [
    "# Abstract"
   ]
  },
  {
   "cell_type": "markdown",
   "metadata": {},
   "source": [
    "In this notebook we will present the preliminary __smart contract__ created in the context of a university project regarding the application of __Blockchain technology__ in the NGO industry with the main purpose being to __combat fraud__ in this sensitive sector. <br> <br>\n",
    "The key aspect of the contract will be its __immutable mission, location, goal and deadline__ once deployed as well as the presence of a __consensus-based payment function__ as a safety feature to combat __embezzlement__."
   ]
  },
  {
   "cell_type": "markdown",
   "metadata": {},
   "source": [
    "# Package Imports "
   ]
  },
  {
   "cell_type": "code",
   "execution_count": 1,
   "metadata": {},
   "outputs": [],
   "source": [
    "from web3 import Web3\n",
    "from IPython.display import Image\n",
    "import pandas as pd\n",
    "import json\n",
    "import os\n",
    "import requests"
   ]
  },
  {
   "cell_type": "markdown",
   "metadata": {},
   "source": [
    "*__N.B.__ if you desire to run the notebook you will need to open a __Ganache__ application to simulate different ether wallets. You will also need to adjust keys and server urls. <br>\n",
    "Additionally, the __coinapi key__ is the free version and only allows for 100 requests per day, if passed, please retrieve your own free key on the website: https://www.coinapi.io/*"
   ]
  },
  {
   "cell_type": "markdown",
   "metadata": {},
   "source": [
    "# Contract"
   ]
  },
  {
   "cell_type": "markdown",
   "metadata": {},
   "source": [
    "Contract coded and compiled in __Remix__ official ethereum compiler: <br>\n",
    "\n",
    "*__N.B.__ please refer to comments in the copy and paste code hereafter for description of function uses.*"
   ]
  },
  {
   "cell_type": "markdown",
   "metadata": {},
   "source": [
    "_______________________________________________________________________________________________________________________________"
   ]
  },
  {
   "cell_type": "raw",
   "metadata": {},
   "source": [
    "pragma solidity ^ 0.4.25;\n",
    "\n",
    "contract ngoProject {\n",
    "    // define contract variables\n",
    "    uint public totalMiners=0; // number of whitelist information miners added to contract by admin\n",
    "    uint public deadline; // deadline of the project calculated according to contract block number + deadline divided by mining time of a block  \n",
    "    uint public goal; // required money of project\n",
    "    uint public raisedAmount = 0 ; // amount raised for project initialised to 0\n",
    "    string public mission; // decription of the aim of the project\n",
    "    string public location; // location of the project (country, continent, etc.)\n",
    "    mapping(address=>bool) public ngoMiners; // array mapping of miners to track votes and avoid double voting\n",
    "    address public admin; // sets who created the contract and is admin for expenses\n",
    "    \n",
    "    \n",
    "    // structure representing a payment request which will have to be voted on\n",
    "    struct  PaymentRequest  {\n",
    "        string description;\n",
    "        uint value;\n",
    "        address recipient;\n",
    "        bool completed;\n",
    "        uint numberOfVotes;\n",
    "        mapping(address=>bool) voted;\n",
    "    }\n",
    "    \n",
    "    // array storing all payment requests\n",
    "    PaymentRequest[] public paymentRequests; \n",
    "    \n",
    "    // constructor of the contract with important static variables that will be immutable throughout lifetime\n",
    "    constructor(string _mission, string _location, uint _deadline, uint _goal) public{\n",
    "        deadline=block.number + _deadline; // average 12 sec per block so need to automate a calc? \n",
    "        goal=_goal;\n",
    "        location = _location;\n",
    "        mission = _mission;\n",
    "        admin = msg.sender;\n",
    "    }\n",
    "    \n",
    "    // utility modifier to enable only admin use on certain functions\n",
    "    modifier onlyAdmin {\n",
    "        require(msg.sender == admin); // account of the NGO behind the project\n",
    "        _;\n",
    "    }\n",
    "    \n",
    "    // function only used by admin to whitelist information miners for the contract\n",
    "    function addMiner(address newAddress) public onlyAdmin{\n",
    "        ngoMiners[newAddress] = true;\n",
    "        \n",
    "        totalMiners++;\n",
    "    }\n",
    "    \n",
    "    // utility function to convert uint into string and then concat to error message\n",
    "    function appendUintToString(string inStr, uint v) internal pure returns (string str) {\n",
    "        uint maxlength = 100;\n",
    "        bytes memory reversed = new bytes(maxlength);\n",
    "        uint i = 0;\n",
    "        while (v != 0) {\n",
    "            uint remainder = v % 10;\n",
    "            v = v / 10;\n",
    "            reversed[i++] = byte(48 + remainder);\n",
    "        }\n",
    "        bytes memory inStrb = bytes(inStr);\n",
    "        bytes memory s = new bytes(inStrb.length + i);\n",
    "        uint j;\n",
    "        for (j = 0; j < inStrb.length; j++) {\n",
    "            s[j] = inStrb[j];\n",
    "        }\n",
    "        for (j = 0; j < i; j++) {\n",
    "            s[j + inStrb.length] = reversed[i - 1 - j];\n",
    "        }\n",
    "        str = string(s);\n",
    "    }\n",
    "    \n",
    "    // function to donate money to the ngo project \n",
    "    // requires goal and deadline not reached\n",
    "    function donate() public payable {\n",
    "        // if goal has been reached display in message\n",
    "        if(raisedAmount == goal)\n",
    "        {\n",
    "            string memory warning = 'Goal has been reached.';\n",
    "        }\n",
    "        else if((raisedAmount + msg.value) > goal)\n",
    "        // if donation too consequential, return how much is missing for goal\n",
    "        {\n",
    "            uint temp = (goal - raisedAmount);\n",
    "            warning = appendUintToString('Too much donated, project missing: ', temp);\n",
    "        }\n",
    "        require(block.number < deadline);\n",
    "        require((raisedAmount + msg.value) <= goal, warning);\n",
    "        // add donation to raised amount\n",
    "        raisedAmount+=msg.value;\n",
    "    }\n",
    "    \n",
    "\n",
    "    function getBalance() public view returns(uint)\n",
    "    {\n",
    "        return address(this).balance;\n",
    "    }\n",
    "    \n",
    "    // function for admin to create a payment Request\n",
    "    function createPaymentRequest(string _description, address _recipient, uint _value) public onlyAdmin{\n",
    "        \n",
    "        PaymentRequest memory newRequest = PaymentRequest(\n",
    "            {\n",
    "                description:_description,\n",
    "                value:_value,\n",
    "                recipient:_recipient,\n",
    "                numberOfVotes:0,\n",
    "                completed:false\n",
    "                }\n",
    "            );\n",
    "        \n",
    "        paymentRequests.push(newRequest);\n",
    "        \n",
    "        \n",
    "    }\n",
    "    \n",
    "    // function for whitelisted NGO miners to vote for a payment request to be accepted\n",
    "    function voteForPaymentRequest(uint index) public {\n",
    "        require(ngoMiners[msg.sender] == true, \"NGO not approved miner.\");\n",
    "        require(paymentRequests[index].voted[msg.sender] != true, \"You have already voted.\");\n",
    "        \n",
    "        paymentRequests[index].voted[msg.sender] = true;\n",
    "        paymentRequests[index].numberOfVotes++;\n",
    "    }\n",
    "    \n",
    "    // function to make payment\n",
    "    // only admin\n",
    "    // requires voting consensus to be a majority \n",
    "    function makePayment(uint index) public onlyAdmin {\n",
    "        PaymentRequest storage thisRequest = paymentRequests[index];\n",
    "        require(thisRequest.completed == false);\n",
    "        require(thisRequest.numberOfVotes > totalMiners / 2);//more than 50% voted\n",
    "        thisRequest.recipient.transfer(thisRequest.value);\n",
    "        thisRequest.completed = true;\n",
    "    }\n",
    "}"
   ]
  },
  {
   "cell_type": "markdown",
   "metadata": {},
   "source": [
    "# Using the Contract"
   ]
  },
  {
   "cell_type": "markdown",
   "metadata": {},
   "source": [
    "## Context:"
   ]
  },
  {
   "cell_type": "markdown",
   "metadata": {},
   "source": [
    "For the purpose of this example, we will imagine that the NGO using our contract model desires to fundraise a project with the purpose of creating a __well__ in __Malawi, East Africa__. <br>\n",
    "According to __Water Wells for Africa (WWFA)__ the average cost is around __8,000 dollars__ and we will assume the project aims to have a deadline for fundraising and completion of the project of __2 months__. "
   ]
  },
  {
   "cell_type": "code",
   "execution_count": 2,
   "metadata": {},
   "outputs": [
    {
     "data": {
      "image/jpeg": "[encoded data removed]",
      "text/plain": [
       "<IPython.core.display.Image object>"
      ]
     },
     "execution_count": 2,
     "metadata": {},
     "output_type": "execute_result"
    }
   ],
   "source": [
    "Image(filename='sponsor-a-well-2.jpg') "
   ]
  },
  {
   "cell_type": "markdown",
   "metadata": {},
   "source": [
    "## Step 1: Contract Deployment (Admin Only)"
   ]
  },
  {
   "cell_type": "markdown",
   "metadata": {},
   "source": [
    "The initial step is to connect to the __Ganache app server__ to profit from the 10 ethereum wallets it offers, we then define the __admin account___ as the first of the list and then provide the parameters to the contract through the __abi__ and __bytecode__ provided by the Remix compiler."
   ]
  },
  {
   "cell_type": "code",
   "execution_count": 3,
   "metadata": {},
   "outputs": [],
   "source": [
    "# connect to ganache - option #2\n",
    "ganache_url = \"HTTP://127.0.0.1:7545\"\n",
    "web3 = Web3(Web3.HTTPProvider(ganache_url))\n",
    "\n",
    "# setup default account\n",
    "web3.eth.defaultAccount = web3.eth.accounts[0]\n",
    "private_key_default = '32dc00838ac6c16f88b75dc3bc8f2717fd52ffbbd7d70966496d9daa84f6b679'\n",
    "\n",
    "# get contract abi and bytecode to deploy locally\n",
    "abi = json.load(open('contracts/abi_v2.json'))\n",
    "bytecode = json.load(open('contracts/bytecode_v2.json'))\n",
    "\n",
    "# deploy temporary contract \n",
    "temp_contract = web3.eth.contract(bytecode=bytecode['object'], abi=abi)"
   ]
  },
  {
   "cell_type": "markdown",
   "metadata": {},
   "source": [
    "Second step is to use the __constructor function__ to define the __static immutable variables__ and __deploy__ the contract on the __blockchain__. <br> <br>\n",
    "\n",
    "To define the __right goal amount__ and __deadline__ we will right utility python functions to convert to the write metrics being __wei__ and __block number__ respectively. But first we need to retrieve the current __ethereum exchange rate__."
   ]
  },
  {
   "cell_type": "code",
   "execution_count": 4,
   "metadata": {},
   "outputs": [
    {
     "data": {
      "text/plain": [
       "{'time': '2019-12-12T15:21:11.5877898Z',\n",
       " 'asset_id_base': 'ETH',\n",
       " 'asset_id_quote': 'USD',\n",
       " 'rate': 142.92335165757592}"
      ]
     },
     "execution_count": 4,
     "metadata": {},
     "output_type": "execute_result"
    }
   ],
   "source": [
    "# assign for key provided by coinapi\n",
    "FREE_KEY = '9F6E98D2-537F-4DF0-BA57-3F33AF31C2FE'\n",
    "\n",
    "API_KEY = os.environ.get('COINAPI_KEY', FREE_KEY)\n",
    "headers = {'X-CoinAPI-Key': API_KEY}\n",
    "\n",
    "# request exchange rate, here usd and ether\n",
    "resp = requests.get('https://rest.coinapi.io/v1/exchangerate/ETH/USD', headers=headers)\n",
    "\n",
    "resp.json()"
   ]
  },
  {
   "cell_type": "code",
   "execution_count": 5,
   "metadata": {},
   "outputs": [],
   "source": [
    "def dollar_to_wei(dollar_value, exchange_rate):\n",
    "    \"\"\"\n",
    "    inputs:\n",
    "    - dollar_value: float or integer\n",
    "        Amount of money in dollars required to finish project.\n",
    "    - exchange_rate: float\n",
    "        Value of the exchange rate between ether and dollar provided by the coinapi.\n",
    "        \n",
    "    return:\n",
    "    - temp_wei: integer\n",
    "        Integer (required for solidity format) Wei value of the total amount of money needed for project.\n",
    "    \"\"\"\n",
    "    # convert dollar amount into ether amount\n",
    "    temp_ethers = dollar_value / exchange_rate\n",
    "    \n",
    "    # convert ether into wei\n",
    "    temp_wei = int(temp_ethers * 1000000000000000000)\n",
    "    \n",
    "    return temp_wei\n",
    "\n",
    "def deadline_to_blocknumber(deadline):\n",
    "    \"\"\"\n",
    "    input:\n",
    "    - deadline: integer\n",
    "        For ease, this integer represents the number of days to deadline.\n",
    "        \n",
    "    return:\n",
    "    - num_blocks: integer\n",
    "        Number of minable blocks before deadline is passed for Blockchain to keep track.\n",
    "    \"\"\"\n",
    "    # convert days to seconds\n",
    "    temp_secs = deadline * 24 * 60 ** 2\n",
    "    # ethereum blocktime is around 10 to 20 seconds with an average at 12 seconds so we will use this value\n",
    "    num_blocks = int(temp_secs // 12)\n",
    "    \n",
    "    return num_blocks"
   ]
  },
  {
   "cell_type": "markdown",
   "metadata": {},
   "source": [
    "Before construction of the contract, lets use the utility functions to get __real time wei value__ of the dollar amount and convert the deadline into __number of minable blocks__."
   ]
  },
  {
   "cell_type": "code",
   "execution_count": 6,
   "metadata": {},
   "outputs": [],
   "source": [
    "# get exchange rate\n",
    "ether_usd_rate = resp.json()['rate']\n",
    "\n",
    "# get wei value of goal\n",
    "wei_goal = dollar_to_wei(8000, ether_usd_rate)\n",
    "\n",
    "# get number of blocks before deadline\n",
    "# say 2 months is 60 days\n",
    "num_block_deadline = deadline_to_blocknumber(60)"
   ]
  },
  {
   "cell_type": "markdown",
   "metadata": {},
   "source": [
    "We can now call the __constructor__ by feeding it the right parameters:"
   ]
  },
  {
   "cell_type": "code",
   "execution_count": 7,
   "metadata": {},
   "outputs": [],
   "source": [
    "# deploy actual contract and assign static variables\n",
    "mission = 'Building a well.'\n",
    "location = 'Malawi, East Africa.'\n",
    "deadline = num_block_deadline\n",
    "goal = wei_goal\n",
    "\n",
    "tx_hash = temp_contract.constructor(mission, location, deadline, goal).transact()\n",
    "tx_receipt = web3.eth.waitForTransactionReceipt(tx_hash)\n",
    "\n",
    "# Create the contract instance with the newly-deployed address\n",
    "contract = web3.eth.contract(address=tx_receipt.contractAddress, abi=abi)"
   ]
  },
  {
   "cell_type": "code",
   "execution_count": 8,
   "metadata": {},
   "outputs": [
    {
     "name": "stdout",
     "output_type": "stream",
     "text": [
      "Goal: 55974058173270843392\n",
      "Deadline: 432088\n",
      "Project mission: Building a well.\n",
      "Project location: Malawi, East Africa.\n"
     ]
    }
   ],
   "source": [
    "# verify contract info\n",
    "print('Goal: ' + str(contract.functions.goal().call()))\n",
    "print('Deadline: ' + str(contract.functions.deadline().call()))\n",
    "print('Project mission: ' + str(contract.functions.mission().call()))\n",
    "print('Project location: ' + str(contract.functions.location().call()))"
   ]
  },
  {
   "cell_type": "markdown",
   "metadata": {},
   "source": [
    "## Step 2: Testing Donation Function and its Requirements"
   ]
  },
  {
   "cell_type": "markdown",
   "metadata": {},
   "source": [
    "Firtly, lets make sure the project has an __initial balance of 0__."
   ]
  },
  {
   "cell_type": "code",
   "execution_count": 9,
   "metadata": {},
   "outputs": [
    {
     "name": "stdout",
     "output_type": "stream",
     "text": [
      "0\n"
     ]
    }
   ],
   "source": [
    "# check balance before any contribution\n",
    "print(contract.functions.getBalance().call())"
   ]
  },
  {
   "cell_type": "markdown",
   "metadata": {},
   "source": [
    "Lets now use the first __5 non admin accounts__ to donate __most__ of the amount."
   ]
  },
  {
   "cell_type": "code",
   "execution_count": 10,
   "metadata": {},
   "outputs": [],
   "source": [
    "# divide total amount required by 6 donations\n",
    "donate_amount = wei_goal // 6\n",
    "\n",
    "# retrieve missed amount for completion later\n",
    "missing_donation = wei_goal - donate_amount * 5\n",
    "\n",
    "# fake 5 contribution\n",
    "for i in range(1, 6): # use other ganache accounts == not admin\n",
    "    # send 2 ether per account to add up to goal\n",
    "    tx_hash_temp = contract.functions.donate().transact({'from': web3.eth.accounts[i], 'gas': 3000000, 'value': donate_amount})\n",
    "    tx_receipt_temp = web3.eth.waitForTransactionReceipt(tx_hash)"
   ]
  },
  {
   "cell_type": "markdown",
   "metadata": {},
   "source": [
    "Let's then check that the donation have been __added to contract__."
   ]
  },
  {
   "cell_type": "code",
   "execution_count": 11,
   "metadata": {},
   "outputs": [
    {
     "name": "stdout",
     "output_type": "stream",
     "text": [
      "46645048477725702825 raised out of 55974058173270843392 needed.\n",
      "Project is still missing: 9329009695545140567 Weis.\n"
     ]
    }
   ],
   "source": [
    "# check balance after contributions\n",
    "print(str(contract.functions.getBalance().call()) + ' raised out of ' + \n",
    "     str(contract.functions.goal().call()) + ' needed.')\n",
    "\n",
    "# show missing amount\n",
    "print('Project is still missing: ' + str(missing_donation) + ' Weis.')"
   ]
  },
  {
   "cell_type": "markdown",
   "metadata": {},
   "source": [
    "Use the next account to donate an amount that __exceeds goal__ and check __callback message__."
   ]
  },
  {
   "cell_type": "code",
   "execution_count": 12,
   "metadata": {},
   "outputs": [
    {
     "ename": "ValueError",
     "evalue": "{'message': 'VM Exception while processing transaction: revert Too much donated, project missing: 9329009695545140567', 'code': -32000, 'data': {'0x139ee23a97f30446b4afb6b284ac19ab076e589dee4ebf49a971a848bd5adae3': {'error': 'revert', 'program_counter': 3843, 'return': '0x08c379a000000000000000000000000000000000000000000000000000000000000000200000000000000000000000000000000000000000000000000000000000000036546f6f206d75636820646f6e617465642c2070726f6a656374206d697373696e673a203933323930303936393535343531343035363700000000000000000000', 'reason': 'Too much donated, project missing: 9329009695545140567'}, 'stack': 'Error: \\n    at Function.RuntimeError.fromResults (C:\\\\Program Files\\\\WindowsApps\\\\Ganache_2.1.2.0_x64__zh355ej5cj694\\\\app\\\\resources\\\\app.asar\\\\node_modules\\\\ganache-core\\\\lib\\\\utils\\\\runtimeerror.js:89:13)\\n    at C:\\\\Program Files\\\\WindowsApps\\\\Ganache_2.1.2.0_x64__zh355ej5cj694\\\\app\\\\resources\\\\app.asar\\\\node_modules\\\\ganache-core\\\\lib\\\\blockchain_double.js:604:28\\n    at C:\\\\Program Files\\\\WindowsApps\\\\Ganache_2.1.2.0_x64__zh355ej5cj694\\\\app\\\\resources\\\\app.asar\\\\node_modules\\\\ganache-core\\\\node_modules\\\\async\\\\internal\\\\once.js:12:16\\n    at replenish (C:\\\\Program Files\\\\WindowsApps\\\\Ganache_2.1.2.0_x64__zh355ej5cj694\\\\app\\\\resources\\\\app.asar\\\\node_modules\\\\ganache-core\\\\node_modules\\\\async\\\\internal\\\\eachOfLimit.js:61:25)\\n    at C:\\\\Program Files\\\\WindowsApps\\\\Ganache_2.1.2.0_x64__zh355ej5cj694\\\\app\\\\resources\\\\app.asar\\\\node_modules\\\\ganache-core\\\\node_modules\\\\async\\\\internal\\\\eachOfLimit.js:71:9\\n    at eachLimit (C:\\\\Program Files\\\\WindowsApps\\\\Ganache_2.1.2.0_x64__zh355ej5cj694\\\\app\\\\resources\\\\app.asar\\\\node_modules\\\\ganache-core\\\\node_modules\\\\async\\\\eachLimit.js:43:36)\\n    at C:\\\\Program Files\\\\WindowsApps\\\\Ganache_2.1.2.0_x64__zh355ej5cj694\\\\app\\\\resources\\\\app.asar\\\\node_modules\\\\ganache-core\\\\node_modules\\\\async\\\\internal\\\\doLimit.js:9:16\\n    at VM.AsyncEventEmitter.emit (C:\\\\Program Files\\\\WindowsApps\\\\Ganache_2.1.2.0_x64__zh355ej5cj694\\\\app\\\\resources\\\\app.asar\\\\node_modules\\\\ganache-core\\\\node_modules\\\\async-eventemitter\\\\lib\\\\AsyncEventEmitter.js:42:3)\\n    at afterBlock (C:\\\\Program Files\\\\WindowsApps\\\\Ganache_2.1.2.0_x64__zh355ej5cj694\\\\app\\\\resources\\\\app.asar\\\\node_modules\\\\ganache-core\\\\node_modules\\\\ethereumjs-vm\\\\dist\\\\runBlock.js:75:10)\\n    at C:\\\\Program Files\\\\WindowsApps\\\\Ganache_2.1.2.0_x64__zh355ej5cj694\\\\app\\\\resources\\\\app.asar\\\\node_modules\\\\ganache-core\\\\node_modules\\\\ethereumjs-vm\\\\dist\\\\runBlock.js:252:9\\n    at C:\\\\Program Files\\\\WindowsApps\\\\Ganache_2.1.2.0_x64__zh355ej5cj694\\\\app\\\\resources\\\\app.asar\\\\node_modules\\\\ganache-core\\\\node_modules\\\\ethereumjs-vm\\\\dist\\\\state\\\\stateManager.js:426:9\\n    at C:\\\\Program Files\\\\WindowsApps\\\\Ganache_2.1.2.0_x64__zh355ej5cj694\\\\app\\\\resources\\\\app.asar\\\\node_modules\\\\ganache-core\\\\node_modules\\\\async\\\\dist\\\\async.js:969:16\\n    at next (C:\\\\Program Files\\\\WindowsApps\\\\Ganache_2.1.2.0_x64__zh355ej5cj694\\\\app\\\\resources\\\\app.asar\\\\node_modules\\\\ganache-core\\\\node_modules\\\\async\\\\dist\\\\async.js:5225:18)\\n    at C:\\\\Program Files\\\\WindowsApps\\\\Ganache_2.1.2.0_x64__zh355ej5cj694\\\\app\\\\resources\\\\app.asar\\\\node_modules\\\\ganache-core\\\\node_modules\\\\async\\\\dist\\\\async.js:119:16\\n    at _combinedTickCallback (internal/process/next_tick.js:131:7)\\n    at process._tickCallback (internal/process/next_tick.js:180:9)', 'name': 'RuntimeError'}}",
     "output_type": "error",
     "traceback": [
      "\u001b[1;31m---------------------------------------------------------------------------\u001b[0m",
      "\u001b[1;31mValueError\u001b[0m                                Traceback (most recent call last)",
      "\u001b[1;32m<ipython-input-12-b0ea510b8183>\u001b[0m in \u001b[0;36m<module>\u001b[1;34m\u001b[0m\n\u001b[0;32m      5\u001b[0m \u001b[0mtemp_donation_excess\u001b[0m \u001b[1;33m=\u001b[0m \u001b[0mmissing_donation\u001b[0m \u001b[1;33m+\u001b[0m \u001b[1;36m1000000\u001b[0m\u001b[1;33m\u001b[0m\u001b[1;33m\u001b[0m\u001b[0m\n\u001b[0;32m      6\u001b[0m \u001b[1;33m\u001b[0m\u001b[0m\n\u001b[1;32m----> 7\u001b[1;33m \u001b[0mtx_hash_temp\u001b[0m \u001b[1;33m=\u001b[0m \u001b[0mcontract\u001b[0m\u001b[1;33m.\u001b[0m\u001b[0mfunctions\u001b[0m\u001b[1;33m.\u001b[0m\u001b[0mdonate\u001b[0m\u001b[1;33m(\u001b[0m\u001b[1;33m)\u001b[0m\u001b[1;33m.\u001b[0m\u001b[0mtransact\u001b[0m\u001b[1;33m(\u001b[0m\u001b[1;33m{\u001b[0m\u001b[1;34m'from'\u001b[0m\u001b[1;33m:\u001b[0m \u001b[0mweb3\u001b[0m\u001b[1;33m.\u001b[0m\u001b[0meth\u001b[0m\u001b[1;33m.\u001b[0m\u001b[0maccounts\u001b[0m\u001b[1;33m[\u001b[0m\u001b[0mi\u001b[0m\u001b[1;33m]\u001b[0m\u001b[1;33m,\u001b[0m \u001b[1;34m'gas'\u001b[0m\u001b[1;33m:\u001b[0m \u001b[1;36m3000000\u001b[0m\u001b[1;33m,\u001b[0m \u001b[1;34m'value'\u001b[0m\u001b[1;33m:\u001b[0m \u001b[0mtemp_donation_excess\u001b[0m\u001b[1;33m}\u001b[0m\u001b[1;33m)\u001b[0m\u001b[1;33m\u001b[0m\u001b[1;33m\u001b[0m\u001b[0m\n\u001b[0m\u001b[0;32m      8\u001b[0m \u001b[0mtx_receipt_temp\u001b[0m \u001b[1;33m=\u001b[0m \u001b[0mweb3\u001b[0m\u001b[1;33m.\u001b[0m\u001b[0meth\u001b[0m\u001b[1;33m.\u001b[0m\u001b[0mwaitForTransactionReceipt\u001b[0m\u001b[1;33m(\u001b[0m\u001b[0mtx_hash\u001b[0m\u001b[1;33m)\u001b[0m\u001b[1;33m\u001b[0m\u001b[1;33m\u001b[0m\u001b[0m\n",
      "\u001b[1;32mc:\\users\\garde\\pycharmprojects\\ngo_blockchain\\venv\\lib\\site-packages\\web3\\contract.py\u001b[0m in \u001b[0;36mtransact\u001b[1;34m(self, transaction)\u001b[0m\n\u001b[0;32m    938\u001b[0m             \u001b[0mself\u001b[0m\u001b[1;33m.\u001b[0m\u001b[0mabi\u001b[0m\u001b[1;33m,\u001b[0m\u001b[1;33m\u001b[0m\u001b[1;33m\u001b[0m\u001b[0m\n\u001b[0;32m    939\u001b[0m             \u001b[1;33m*\u001b[0m\u001b[0mself\u001b[0m\u001b[1;33m.\u001b[0m\u001b[0margs\u001b[0m\u001b[1;33m,\u001b[0m\u001b[1;33m\u001b[0m\u001b[1;33m\u001b[0m\u001b[0m\n\u001b[1;32m--> 940\u001b[1;33m             \u001b[1;33m**\u001b[0m\u001b[0mself\u001b[0m\u001b[1;33m.\u001b[0m\u001b[0mkwargs\u001b[0m\u001b[1;33m\u001b[0m\u001b[1;33m\u001b[0m\u001b[0m\n\u001b[0m\u001b[0;32m    941\u001b[0m         )\n\u001b[0;32m    942\u001b[0m \u001b[1;33m\u001b[0m\u001b[0m\n",
      "\u001b[1;32mc:\\users\\garde\\pycharmprojects\\ngo_blockchain\\venv\\lib\\site-packages\\web3\\contract.py\u001b[0m in \u001b[0;36mtransact_with_contract_function\u001b[1;34m(address, web3, function_name, transaction, contract_abi, fn_abi, *args, **kwargs)\u001b[0m\n\u001b[0;32m   1512\u001b[0m     )\n\u001b[0;32m   1513\u001b[0m \u001b[1;33m\u001b[0m\u001b[0m\n\u001b[1;32m-> 1514\u001b[1;33m     \u001b[0mtxn_hash\u001b[0m \u001b[1;33m=\u001b[0m \u001b[0mweb3\u001b[0m\u001b[1;33m.\u001b[0m\u001b[0meth\u001b[0m\u001b[1;33m.\u001b[0m\u001b[0msendTransaction\u001b[0m\u001b[1;33m(\u001b[0m\u001b[0mtransact_transaction\u001b[0m\u001b[1;33m)\u001b[0m\u001b[1;33m\u001b[0m\u001b[1;33m\u001b[0m\u001b[0m\n\u001b[0m\u001b[0;32m   1515\u001b[0m     \u001b[1;32mreturn\u001b[0m \u001b[0mtxn_hash\u001b[0m\u001b[1;33m\u001b[0m\u001b[1;33m\u001b[0m\u001b[0m\n\u001b[0;32m   1516\u001b[0m \u001b[1;33m\u001b[0m\u001b[0m\n",
      "\u001b[1;32mc:\\users\\garde\\pycharmprojects\\ngo_blockchain\\venv\\lib\\site-packages\\web3\\eth.py\u001b[0m in \u001b[0;36msendTransaction\u001b[1;34m(self, transaction)\u001b[0m\n\u001b[0;32m    380\u001b[0m         return self.web3.manager.request_blocking(\n\u001b[0;32m    381\u001b[0m             \u001b[0mRPC\u001b[0m\u001b[1;33m.\u001b[0m\u001b[0meth_sendTransaction\u001b[0m\u001b[1;33m,\u001b[0m\u001b[1;33m\u001b[0m\u001b[1;33m\u001b[0m\u001b[0m\n\u001b[1;32m--> 382\u001b[1;33m             \u001b[1;33m[\u001b[0m\u001b[0mtransaction\u001b[0m\u001b[1;33m]\u001b[0m\u001b[1;33m,\u001b[0m\u001b[1;33m\u001b[0m\u001b[1;33m\u001b[0m\u001b[0m\n\u001b[0m\u001b[0;32m    383\u001b[0m         )\n\u001b[0;32m    384\u001b[0m \u001b[1;33m\u001b[0m\u001b[0m\n",
      "\u001b[1;32mc:\\users\\garde\\pycharmprojects\\ngo_blockchain\\venv\\lib\\site-packages\\web3\\manager.py\u001b[0m in \u001b[0;36mrequest_blocking\u001b[1;34m(self, method, params, error_formatters)\u001b[0m\n\u001b[0;32m    150\u001b[0m         \u001b[1;32mif\u001b[0m \u001b[1;34m\"error\"\u001b[0m \u001b[1;32min\u001b[0m \u001b[0mresponse\u001b[0m\u001b[1;33m:\u001b[0m\u001b[1;33m\u001b[0m\u001b[1;33m\u001b[0m\u001b[0m\n\u001b[0;32m    151\u001b[0m             \u001b[0mapply_error_formatters\u001b[0m\u001b[1;33m(\u001b[0m\u001b[0merror_formatters\u001b[0m\u001b[1;33m,\u001b[0m \u001b[0mresponse\u001b[0m\u001b[1;33m)\u001b[0m\u001b[1;33m\u001b[0m\u001b[1;33m\u001b[0m\u001b[0m\n\u001b[1;32m--> 152\u001b[1;33m             \u001b[1;32mraise\u001b[0m \u001b[0mValueError\u001b[0m\u001b[1;33m(\u001b[0m\u001b[0mresponse\u001b[0m\u001b[1;33m[\u001b[0m\u001b[1;34m\"error\"\u001b[0m\u001b[1;33m]\u001b[0m\u001b[1;33m)\u001b[0m\u001b[1;33m\u001b[0m\u001b[1;33m\u001b[0m\u001b[0m\n\u001b[0m\u001b[0;32m    153\u001b[0m \u001b[1;33m\u001b[0m\u001b[0m\n\u001b[0;32m    154\u001b[0m         \u001b[1;32mreturn\u001b[0m \u001b[0mresponse\u001b[0m\u001b[1;33m[\u001b[0m\u001b[1;34m'result'\u001b[0m\u001b[1;33m]\u001b[0m\u001b[1;33m\u001b[0m\u001b[1;33m\u001b[0m\u001b[0m\n",
      "\u001b[1;31mValueError\u001b[0m: {'message': 'VM Exception while processing transaction: revert Too much donated, project missing: 9329009695545140567', 'code': -32000, 'data': {'0x139ee23a97f30446b4afb6b284ac19ab076e589dee4ebf49a971a848bd5adae3': {'error': 'revert', 'program_counter': 3843, 'return': '0x08c379a000000000000000000000000000000000000000000000000000000000000000200000000000000000000000000000000000000000000000000000000000000036546f6f206d75636820646f6e617465642c2070726f6a656374206d697373696e673a203933323930303936393535343531343035363700000000000000000000', 'reason': 'Too much donated, project missing: 9329009695545140567'}, 'stack': 'Error: \\n    at Function.RuntimeError.fromResults (C:\\\\Program Files\\\\WindowsApps\\\\Ganache_2.1.2.0_x64__zh355ej5cj694\\\\app\\\\resources\\\\app.asar\\\\node_modules\\\\ganache-core\\\\lib\\\\utils\\\\runtimeerror.js:89:13)\\n    at C:\\\\Program Files\\\\WindowsApps\\\\Ganache_2.1.2.0_x64__zh355ej5cj694\\\\app\\\\resources\\\\app.asar\\\\node_modules\\\\ganache-core\\\\lib\\\\blockchain_double.js:604:28\\n    at C:\\\\Program Files\\\\WindowsApps\\\\Ganache_2.1.2.0_x64__zh355ej5cj694\\\\app\\\\resources\\\\app.asar\\\\node_modules\\\\ganache-core\\\\node_modules\\\\async\\\\internal\\\\once.js:12:16\\n    at replenish (C:\\\\Program Files\\\\WindowsApps\\\\Ganache_2.1.2.0_x64__zh355ej5cj694\\\\app\\\\resources\\\\app.asar\\\\node_modules\\\\ganache-core\\\\node_modules\\\\async\\\\internal\\\\eachOfLimit.js:61:25)\\n    at C:\\\\Program Files\\\\WindowsApps\\\\Ganache_2.1.2.0_x64__zh355ej5cj694\\\\app\\\\resources\\\\app.asar\\\\node_modules\\\\ganache-core\\\\node_modules\\\\async\\\\internal\\\\eachOfLimit.js:71:9\\n    at eachLimit (C:\\\\Program Files\\\\WindowsApps\\\\Ganache_2.1.2.0_x64__zh355ej5cj694\\\\app\\\\resources\\\\app.asar\\\\node_modules\\\\ganache-core\\\\node_modules\\\\async\\\\eachLimit.js:43:36)\\n    at C:\\\\Program Files\\\\WindowsApps\\\\Ganache_2.1.2.0_x64__zh355ej5cj694\\\\app\\\\resources\\\\app.asar\\\\node_modules\\\\ganache-core\\\\node_modules\\\\async\\\\internal\\\\doLimit.js:9:16\\n    at VM.AsyncEventEmitter.emit (C:\\\\Program Files\\\\WindowsApps\\\\Ganache_2.1.2.0_x64__zh355ej5cj694\\\\app\\\\resources\\\\app.asar\\\\node_modules\\\\ganache-core\\\\node_modules\\\\async-eventemitter\\\\lib\\\\AsyncEventEmitter.js:42:3)\\n    at afterBlock (C:\\\\Program Files\\\\WindowsApps\\\\Ganache_2.1.2.0_x64__zh355ej5cj694\\\\app\\\\resources\\\\app.asar\\\\node_modules\\\\ganache-core\\\\node_modules\\\\ethereumjs-vm\\\\dist\\\\runBlock.js:75:10)\\n    at C:\\\\Program Files\\\\WindowsApps\\\\Ganache_2.1.2.0_x64__zh355ej5cj694\\\\app\\\\resources\\\\app.asar\\\\node_modules\\\\ganache-core\\\\node_modules\\\\ethereumjs-vm\\\\dist\\\\runBlock.js:252:9\\n    at C:\\\\Program Files\\\\WindowsApps\\\\Ganache_2.1.2.0_x64__zh355ej5cj694\\\\app\\\\resources\\\\app.asar\\\\node_modules\\\\ganache-core\\\\node_modules\\\\ethereumjs-vm\\\\dist\\\\state\\\\stateManager.js:426:9\\n    at C:\\\\Program Files\\\\WindowsApps\\\\Ganache_2.1.2.0_x64__zh355ej5cj694\\\\app\\\\resources\\\\app.asar\\\\node_modules\\\\ganache-core\\\\node_modules\\\\async\\\\dist\\\\async.js:969:16\\n    at next (C:\\\\Program Files\\\\WindowsApps\\\\Ganache_2.1.2.0_x64__zh355ej5cj694\\\\app\\\\resources\\\\app.asar\\\\node_modules\\\\ganache-core\\\\node_modules\\\\async\\\\dist\\\\async.js:5225:18)\\n    at C:\\\\Program Files\\\\WindowsApps\\\\Ganache_2.1.2.0_x64__zh355ej5cj694\\\\app\\\\resources\\\\app.asar\\\\node_modules\\\\ganache-core\\\\node_modules\\\\async\\\\dist\\\\async.js:119:16\\n    at _combinedTickCallback (internal/process/next_tick.js:131:7)\\n    at process._tickCallback (internal/process/next_tick.js:180:9)', 'name': 'RuntimeError'}}"
     ]
    }
   ],
   "source": [
    "# make sure more contributions are not accepted\n",
    "i = 6 # another ganache account not used\n",
    "\n",
    "# define donation amount as amoount still required + an arbitrary excess\n",
    "temp_donation_excess = missing_donation + 1000000\n",
    "\n",
    "tx_hash_temp = contract.functions.donate().transact({'from': web3.eth.accounts[i], 'gas': 3000000, 'value': temp_donation_excess})\n",
    "tx_receipt_temp = web3.eth.waitForTransactionReceipt(tx_hash)"
   ]
  },
  {
   "cell_type": "markdown",
   "metadata": {},
   "source": [
    "As explained in the __*Disclaimer*__, the message of interest provided to customer would be the __*'message': 'VM Exception while processing transaction: revert Too much donated, project missing: 9228804508617472686'*__."
   ]
  },
  {
   "cell_type": "code",
   "execution_count": 13,
   "metadata": {},
   "outputs": [
    {
     "data": {
      "text/plain": [
       "46645048477725702825"
      ]
     },
     "execution_count": 13,
     "metadata": {},
     "output_type": "execute_result"
    }
   ],
   "source": [
    "# make sure money has not gone to contract\n",
    "contract.functions.raisedAmount().call()"
   ]
  },
  {
   "cell_type": "markdown",
   "metadata": {},
   "source": [
    "For the rest of the notebook, we want the __goal__ to be __achieved__, we will consequently use the latter account to now donate the __exact__ missing amount."
   ]
  },
  {
   "cell_type": "code",
   "execution_count": 14,
   "metadata": {},
   "outputs": [],
   "source": [
    "i = 6 # another ganache account not used\n",
    "\n",
    "tx_hash_temp = contract.functions.donate().transact({'from': web3.eth.accounts[i], 'gas': 3000000, 'value': missing_donation})\n",
    "tx_receipt_temp = web3.eth.waitForTransactionReceipt(tx_hash)"
   ]
  },
  {
   "cell_type": "code",
   "execution_count": 15,
   "metadata": {},
   "outputs": [
    {
     "name": "stdout",
     "output_type": "stream",
     "text": [
      "55974058173270843392 raised out of 55974058173270843392 needed.\n"
     ]
    }
   ],
   "source": [
    "# check balance after contributions\n",
    "print(str(contract.functions.getBalance().call()) + ' raised out of ' + \n",
    "     str(contract.functions.goal().call()) + ' needed.')"
   ]
  },
  {
   "cell_type": "markdown",
   "metadata": {},
   "source": [
    "## Step 3: Add Information Miners (Admin Only)"
   ]
  },
  {
   "cell_type": "markdown",
   "metadata": {},
   "source": [
    "The __Proof-of-Work__ used for this contract is based on __social consensus__ with __information miners__ voting the approval of __expenses__ with a __required majority__. <br> <br>\n",
    "Here, __information miners__ are represented by other __NGOs__ providing similar projects with the idea being that the __majority of NGOs__ are not __fraudulent__."
   ]
  },
  {
   "cell_type": "markdown",
   "metadata": {},
   "source": [
    "_______________________________________________________________________________________________________________________________"
   ]
  },
  {
   "cell_type": "markdown",
   "metadata": {},
   "source": [
    "To ease the testing process, we will recycle __some__ of the addresses used for donations. __In practice__, the miners whitelisted would be different to contributors, __unless__ the miner NGO also desires to participate in the crowdfunding. <br> <br>\n",
    "The __whitelisting__ function to add miners is an __admin only__ function so as to make sure not anyone can *take control of the consensus*."
   ]
  },
  {
   "cell_type": "code",
   "execution_count": 16,
   "metadata": {},
   "outputs": [
    {
     "name": "stdout",
     "output_type": "stream",
     "text": [
      "Number of information miners: 5\n",
      "Majority at 3 out of 5.\n"
     ]
    }
   ],
   "source": [
    "# add as many unused ganache accounts as NGO information miners to whitelist of consensus voters\n",
    "for i in range(5, 10):\n",
    "    contract.functions.addMiner(web3.eth.accounts[i]).transact()\n",
    "    \n",
    "# check that miners have been added, should be equal to 5\n",
    "print('Number of information miners: ' + str(contract.functions.totalMiners().call()))\n",
    "print('Majority at 3 out of 5.')"
   ]
  },
  {
   "cell_type": "markdown",
   "metadata": {},
   "source": [
    "## Step 4: Create a Payment Request (Admin Only)"
   ]
  },
  {
   "cell_type": "markdown",
   "metadata": {},
   "source": [
    "In order to create a payment/spending request, the admin of the NGO in charge of the project __must__ provide the following information: <br> <br>\n",
    "1) A __*description*__ of the service and/or material provided by the recipient. <br><br>\n",
    "2) The __*recipient address*__ which information miners can use to verify that the money is not being embezzled but sent to the *right wallet address*. <br><br>\n",
    "3) The __*value amount*__ of the payment which, again, the information miners with their knowledge of the market (being similar NGOs) can verify by comparing to their own *baselines*."
   ]
  },
  {
   "cell_type": "code",
   "execution_count": 17,
   "metadata": {},
   "outputs": [
    {
     "data": {
      "text/plain": [
       "HexBytes('0xa3cc74eebb18ceee8b4701fe4851d5fc41394b043e037b83ed9acb3d6b4599ee')"
      ]
     },
     "execution_count": 17,
     "metadata": {},
     "output_type": "execute_result"
    }
   ],
   "source": [
    "# prepare request parameter\n",
    "description = 'Payment of breezeblocks for the well construction.'\n",
    "\n",
    "# use of a ganache donor account as recipient for ease of testing but in practice would be supplier wallet address\n",
    "recipient = web3.eth.accounts[2] \n",
    "\n",
    "# Use of the utility function with an arbitrary price as it is just testing\n",
    "value = dollar_to_wei(1000, ether_usd_rate)\n",
    "\n",
    "# create the payment request\n",
    "contract.functions.createPaymentRequest(description, recipient, value).transact()"
   ]
  },
  {
   "cell_type": "markdown",
   "metadata": {},
   "source": [
    "To verify that the contract is running correctly, lets visualise all the necessary prior information:"
   ]
  },
  {
   "cell_type": "code",
   "execution_count": 18,
   "metadata": {},
   "outputs": [
    {
     "name": "stdout",
     "output_type": "stream",
     "text": [
      "Recipient account balance prior to payment: 64.270928793958431488\n"
     ]
    },
    {
     "data": {
      "text/plain": [
       "['Payment of breezeblocks for the well construction.',\n",
       " 6996757271658855424,\n",
       " '0x665B392ec1573dBe11B6cB00e3285cFCc43E9022',\n",
       " False,\n",
       " 0]"
      ]
     },
     "execution_count": 18,
     "metadata": {},
     "output_type": "execute_result"
    }
   ],
   "source": [
    "# check current value of account 2 recipient\n",
    "old_value = web3.fromWei(web3.eth.getBalance(web3.eth.accounts[2]), 'ether')\n",
    "print('Recipient account balance prior to payment: ' + str(old_value))\n",
    "\n",
    "# check if request has been stored in the declared request array\n",
    "# request index is 0 here as it is the first request, an admin could in practice create multiple requests if desired\n",
    "request_index = 0\n",
    "contract.functions.paymentRequests(0).call()"
   ]
  },
  {
   "cell_type": "markdown",
   "metadata": {},
   "source": [
    "## Step 5: Voting and Payment"
   ]
  },
  {
   "cell_type": "markdown",
   "metadata": {},
   "source": [
    "First, lets vote with __only 2 miners__ so that *consensus has not been achieved* and verify that payment would not go through."
   ]
  },
  {
   "cell_type": "code",
   "execution_count": 19,
   "metadata": {},
   "outputs": [],
   "source": [
    "# use miners to vote approval of the request\n",
    "for i in [5, 6]:\n",
    "    contract.functions.voteForPaymentRequest(request_index).transact({'from': web3.eth.accounts[i]})"
   ]
  },
  {
   "cell_type": "markdown",
   "metadata": {},
   "source": [
    "Try to make payment __without consensus__."
   ]
  },
  {
   "cell_type": "code",
   "execution_count": 20,
   "metadata": {},
   "outputs": [
    {
     "ename": "ValueError",
     "evalue": "{'message': 'execution error: revert', 'code': -32000, 'data': {'stack': 'Error: execution error: revert\\n    at C:\\\\Program Files\\\\WindowsApps\\\\Ganache_2.1.2.0_x64__zh355ej5cj694\\\\app\\\\resources\\\\app.asar\\\\node_modules\\\\ganache-core\\\\lib\\\\utils\\\\gasEstimation.js:12:11\\n    at C:\\\\Program Files\\\\WindowsApps\\\\Ganache_2.1.2.0_x64__zh355ej5cj694\\\\app\\\\resources\\\\app.asar\\\\node_modules\\\\ganache-core\\\\node_modules\\\\ethereumjs-vm\\\\dist\\\\runTx.js:74:9\\n    at C:\\\\Program Files\\\\WindowsApps\\\\Ganache_2.1.2.0_x64__zh355ej5cj694\\\\app\\\\resources\\\\app.asar\\\\node_modules\\\\ganache-core\\\\node_modules\\\\async\\\\dist\\\\async.js:969:16\\n    at next (C:\\\\Program Files\\\\WindowsApps\\\\Ganache_2.1.2.0_x64__zh355ej5cj694\\\\app\\\\resources\\\\app.asar\\\\node_modules\\\\ganache-core\\\\node_modules\\\\async\\\\dist\\\\async.js:5225:18)\\n    at C:\\\\Program Files\\\\WindowsApps\\\\Ganache_2.1.2.0_x64__zh355ej5cj694\\\\app\\\\resources\\\\app.asar\\\\node_modules\\\\ganache-core\\\\node_modules\\\\ethereumjs-vm\\\\dist\\\\state\\\\cache.js:160:13\\n    at C:\\\\Program Files\\\\WindowsApps\\\\Ganache_2.1.2.0_x64__zh355ej5cj694\\\\app\\\\resources\\\\app.asar\\\\node_modules\\\\ganache-core\\\\node_modules\\\\merkle-patricia-tree\\\\util.js:51:36\\n    at C:\\\\Program Files\\\\WindowsApps\\\\Ganache_2.1.2.0_x64__zh355ej5cj694\\\\app\\\\resources\\\\app.asar\\\\node_modules\\\\ganache-core\\\\node_modules\\\\merkle-patricia-tree\\\\node_modules\\\\async\\\\lib\\\\async.js:52:16\\n    at done (C:\\\\Program Files\\\\WindowsApps\\\\Ganache_2.1.2.0_x64__zh355ej5cj694\\\\app\\\\resources\\\\app.asar\\\\node_modules\\\\ganache-core\\\\node_modules\\\\merkle-patricia-tree\\\\node_modules\\\\async\\\\lib\\\\async.js:246:17)\\n    at C:\\\\Program Files\\\\WindowsApps\\\\Ganache_2.1.2.0_x64__zh355ej5cj694\\\\app\\\\resources\\\\app.asar\\\\node_modules\\\\ganache-core\\\\node_modules\\\\merkle-patricia-tree\\\\node_modules\\\\async\\\\lib\\\\async.js:44:16\\n    at C:\\\\Program Files\\\\WindowsApps\\\\Ganache_2.1.2.0_x64__zh355ej5cj694\\\\app\\\\resources\\\\app.asar\\\\node_modules\\\\ganache-core\\\\lib\\\\database\\\\levelupobjectadapter.js:110:7\\n    at C:\\\\Program Files\\\\WindowsApps\\\\Ganache_2.1.2.0_x64__zh355ej5cj694\\\\app\\\\resources\\\\app.asar\\\\node_modules\\\\ganache-core\\\\node_modules\\\\async\\\\dist\\\\async.js:473:16\\n    at iteratorCallback (C:\\\\Program Files\\\\WindowsApps\\\\Ganache_2.1.2.0_x64__zh355ej5cj694\\\\app\\\\resources\\\\app.asar\\\\node_modules\\\\ganache-core\\\\node_modules\\\\async\\\\dist\\\\async.js:1064:13)\\n    at C:\\\\Program Files\\\\WindowsApps\\\\Ganache_2.1.2.0_x64__zh355ej5cj694\\\\app\\\\resources\\\\app.asar\\\\node_modules\\\\ganache-core\\\\node_modules\\\\async\\\\dist\\\\async.js:969:16\\n    at C:\\\\Program Files\\\\WindowsApps\\\\Ganache_2.1.2.0_x64__zh355ej5cj694\\\\app\\\\resources\\\\app.asar\\\\node_modules\\\\ganache-core\\\\node_modules\\\\level-sublevel\\\\shell.js:53:51\\n    at C:\\\\Program Files\\\\WindowsApps\\\\Ganache_2.1.2.0_x64__zh355ej5cj694\\\\app\\\\resources\\\\app.asar\\\\node_modules\\\\ganache-core\\\\node_modules\\\\level-sublevel\\\\nut.js:109:13\\n    at C:\\\\Program Files\\\\WindowsApps\\\\Ganache_2.1.2.0_x64__zh355ej5cj694\\\\app\\\\resources\\\\app.asar\\\\node_modules\\\\ganache-core\\\\lib\\\\database\\\\filedown.js:64:7', 'name': 'Error'}}",
     "output_type": "error",
     "traceback": [
      "\u001b[1;31m---------------------------------------------------------------------------\u001b[0m",
      "\u001b[1;31mValueError\u001b[0m                                Traceback (most recent call last)",
      "\u001b[1;32m<ipython-input-20-aa957d87507f>\u001b[0m in \u001b[0;36m<module>\u001b[1;34m\u001b[0m\n\u001b[0;32m      1\u001b[0m \u001b[1;31m# make the payment without consensus\u001b[0m\u001b[1;33m\u001b[0m\u001b[1;33m\u001b[0m\u001b[1;33m\u001b[0m\u001b[0m\n\u001b[1;32m----> 2\u001b[1;33m \u001b[0mcontract\u001b[0m\u001b[1;33m.\u001b[0m\u001b[0mfunctions\u001b[0m\u001b[1;33m.\u001b[0m\u001b[0mmakePayment\u001b[0m\u001b[1;33m(\u001b[0m\u001b[0mrequest_index\u001b[0m\u001b[1;33m)\u001b[0m\u001b[1;33m.\u001b[0m\u001b[0mtransact\u001b[0m\u001b[1;33m(\u001b[0m\u001b[1;33m)\u001b[0m\u001b[1;33m\u001b[0m\u001b[1;33m\u001b[0m\u001b[0m\n\u001b[0m",
      "\u001b[1;32mc:\\users\\garde\\pycharmprojects\\ngo_blockchain\\venv\\lib\\site-packages\\web3\\contract.py\u001b[0m in \u001b[0;36mtransact\u001b[1;34m(self, transaction)\u001b[0m\n\u001b[0;32m    938\u001b[0m             \u001b[0mself\u001b[0m\u001b[1;33m.\u001b[0m\u001b[0mabi\u001b[0m\u001b[1;33m,\u001b[0m\u001b[1;33m\u001b[0m\u001b[1;33m\u001b[0m\u001b[0m\n\u001b[0;32m    939\u001b[0m             \u001b[1;33m*\u001b[0m\u001b[0mself\u001b[0m\u001b[1;33m.\u001b[0m\u001b[0margs\u001b[0m\u001b[1;33m,\u001b[0m\u001b[1;33m\u001b[0m\u001b[1;33m\u001b[0m\u001b[0m\n\u001b[1;32m--> 940\u001b[1;33m             \u001b[1;33m**\u001b[0m\u001b[0mself\u001b[0m\u001b[1;33m.\u001b[0m\u001b[0mkwargs\u001b[0m\u001b[1;33m\u001b[0m\u001b[1;33m\u001b[0m\u001b[0m\n\u001b[0m\u001b[0;32m    941\u001b[0m         )\n\u001b[0;32m    942\u001b[0m \u001b[1;33m\u001b[0m\u001b[0m\n",
      "\u001b[1;32mc:\\users\\garde\\pycharmprojects\\ngo_blockchain\\venv\\lib\\site-packages\\web3\\contract.py\u001b[0m in \u001b[0;36mtransact_with_contract_function\u001b[1;34m(address, web3, function_name, transaction, contract_abi, fn_abi, *args, **kwargs)\u001b[0m\n\u001b[0;32m   1512\u001b[0m     )\n\u001b[0;32m   1513\u001b[0m \u001b[1;33m\u001b[0m\u001b[0m\n\u001b[1;32m-> 1514\u001b[1;33m     \u001b[0mtxn_hash\u001b[0m \u001b[1;33m=\u001b[0m \u001b[0mweb3\u001b[0m\u001b[1;33m.\u001b[0m\u001b[0meth\u001b[0m\u001b[1;33m.\u001b[0m\u001b[0msendTransaction\u001b[0m\u001b[1;33m(\u001b[0m\u001b[0mtransact_transaction\u001b[0m\u001b[1;33m)\u001b[0m\u001b[1;33m\u001b[0m\u001b[1;33m\u001b[0m\u001b[0m\n\u001b[0m\u001b[0;32m   1515\u001b[0m     \u001b[1;32mreturn\u001b[0m \u001b[0mtxn_hash\u001b[0m\u001b[1;33m\u001b[0m\u001b[1;33m\u001b[0m\u001b[0m\n\u001b[0;32m   1516\u001b[0m \u001b[1;33m\u001b[0m\u001b[0m\n",
      "\u001b[1;32mc:\\users\\garde\\pycharmprojects\\ngo_blockchain\\venv\\lib\\site-packages\\web3\\eth.py\u001b[0m in \u001b[0;36msendTransaction\u001b[1;34m(self, transaction)\u001b[0m\n\u001b[0;32m    375\u001b[0m                 \u001b[0mtransaction\u001b[0m\u001b[1;33m,\u001b[0m\u001b[1;33m\u001b[0m\u001b[1;33m\u001b[0m\u001b[0m\n\u001b[0;32m    376\u001b[0m                 \u001b[1;34m'gas'\u001b[0m\u001b[1;33m,\u001b[0m\u001b[1;33m\u001b[0m\u001b[1;33m\u001b[0m\u001b[0m\n\u001b[1;32m--> 377\u001b[1;33m                 \u001b[0mget_buffered_gas_estimate\u001b[0m\u001b[1;33m(\u001b[0m\u001b[0mself\u001b[0m\u001b[1;33m.\u001b[0m\u001b[0mweb3\u001b[0m\u001b[1;33m,\u001b[0m \u001b[0mtransaction\u001b[0m\u001b[1;33m)\u001b[0m\u001b[1;33m,\u001b[0m\u001b[1;33m\u001b[0m\u001b[1;33m\u001b[0m\u001b[0m\n\u001b[0m\u001b[0;32m    378\u001b[0m             )\n\u001b[0;32m    379\u001b[0m \u001b[1;33m\u001b[0m\u001b[0m\n",
      "\u001b[1;32mc:\\users\\garde\\pycharmprojects\\ngo_blockchain\\venv\\lib\\site-packages\\web3\\_utils\\transactions.py\u001b[0m in \u001b[0;36mget_buffered_gas_estimate\u001b[1;34m(web3, transaction, gas_buffer)\u001b[0m\n\u001b[0;32m    113\u001b[0m     \u001b[0mgas_estimate_transaction\u001b[0m \u001b[1;33m=\u001b[0m \u001b[0mdict\u001b[0m\u001b[1;33m(\u001b[0m\u001b[1;33m**\u001b[0m\u001b[0mtransaction\u001b[0m\u001b[1;33m)\u001b[0m\u001b[1;33m\u001b[0m\u001b[1;33m\u001b[0m\u001b[0m\n\u001b[0;32m    114\u001b[0m \u001b[1;33m\u001b[0m\u001b[0m\n\u001b[1;32m--> 115\u001b[1;33m     \u001b[0mgas_estimate\u001b[0m \u001b[1;33m=\u001b[0m \u001b[0mweb3\u001b[0m\u001b[1;33m.\u001b[0m\u001b[0meth\u001b[0m\u001b[1;33m.\u001b[0m\u001b[0mestimateGas\u001b[0m\u001b[1;33m(\u001b[0m\u001b[0mgas_estimate_transaction\u001b[0m\u001b[1;33m)\u001b[0m\u001b[1;33m\u001b[0m\u001b[1;33m\u001b[0m\u001b[0m\n\u001b[0m\u001b[0;32m    116\u001b[0m \u001b[1;33m\u001b[0m\u001b[0m\n\u001b[0;32m    117\u001b[0m     \u001b[0mgas_limit\u001b[0m \u001b[1;33m=\u001b[0m \u001b[0mget_block_gas_limit\u001b[0m\u001b[1;33m(\u001b[0m\u001b[0mweb3\u001b[0m\u001b[1;33m)\u001b[0m\u001b[1;33m\u001b[0m\u001b[1;33m\u001b[0m\u001b[0m\n",
      "\u001b[1;32mc:\\users\\garde\\pycharmprojects\\ngo_blockchain\\venv\\lib\\site-packages\\web3\\eth.py\u001b[0m in \u001b[0;36mestimateGas\u001b[1;34m(self, transaction, block_identifier)\u001b[0m\n\u001b[0;32m    439\u001b[0m         return self.web3.manager.request_blocking(\n\u001b[0;32m    440\u001b[0m             \u001b[0mRPC\u001b[0m\u001b[1;33m.\u001b[0m\u001b[0meth_estimateGas\u001b[0m\u001b[1;33m,\u001b[0m\u001b[1;33m\u001b[0m\u001b[1;33m\u001b[0m\u001b[0m\n\u001b[1;32m--> 441\u001b[1;33m             \u001b[0mparams\u001b[0m\u001b[1;33m,\u001b[0m\u001b[1;33m\u001b[0m\u001b[1;33m\u001b[0m\u001b[0m\n\u001b[0m\u001b[0;32m    442\u001b[0m         )\n\u001b[0;32m    443\u001b[0m \u001b[1;33m\u001b[0m\u001b[0m\n",
      "\u001b[1;32mc:\\users\\garde\\pycharmprojects\\ngo_blockchain\\venv\\lib\\site-packages\\web3\\manager.py\u001b[0m in \u001b[0;36mrequest_blocking\u001b[1;34m(self, method, params, error_formatters)\u001b[0m\n\u001b[0;32m    150\u001b[0m         \u001b[1;32mif\u001b[0m \u001b[1;34m\"error\"\u001b[0m \u001b[1;32min\u001b[0m \u001b[0mresponse\u001b[0m\u001b[1;33m:\u001b[0m\u001b[1;33m\u001b[0m\u001b[1;33m\u001b[0m\u001b[0m\n\u001b[0;32m    151\u001b[0m             \u001b[0mapply_error_formatters\u001b[0m\u001b[1;33m(\u001b[0m\u001b[0merror_formatters\u001b[0m\u001b[1;33m,\u001b[0m \u001b[0mresponse\u001b[0m\u001b[1;33m)\u001b[0m\u001b[1;33m\u001b[0m\u001b[1;33m\u001b[0m\u001b[0m\n\u001b[1;32m--> 152\u001b[1;33m             \u001b[1;32mraise\u001b[0m \u001b[0mValueError\u001b[0m\u001b[1;33m(\u001b[0m\u001b[0mresponse\u001b[0m\u001b[1;33m[\u001b[0m\u001b[1;34m\"error\"\u001b[0m\u001b[1;33m]\u001b[0m\u001b[1;33m)\u001b[0m\u001b[1;33m\u001b[0m\u001b[1;33m\u001b[0m\u001b[0m\n\u001b[0m\u001b[0;32m    153\u001b[0m \u001b[1;33m\u001b[0m\u001b[0m\n\u001b[0;32m    154\u001b[0m         \u001b[1;32mreturn\u001b[0m \u001b[0mresponse\u001b[0m\u001b[1;33m[\u001b[0m\u001b[1;34m'result'\u001b[0m\u001b[1;33m]\u001b[0m\u001b[1;33m\u001b[0m\u001b[1;33m\u001b[0m\u001b[0m\n",
      "\u001b[1;31mValueError\u001b[0m: {'message': 'execution error: revert', 'code': -32000, 'data': {'stack': 'Error: execution error: revert\\n    at C:\\\\Program Files\\\\WindowsApps\\\\Ganache_2.1.2.0_x64__zh355ej5cj694\\\\app\\\\resources\\\\app.asar\\\\node_modules\\\\ganache-core\\\\lib\\\\utils\\\\gasEstimation.js:12:11\\n    at C:\\\\Program Files\\\\WindowsApps\\\\Ganache_2.1.2.0_x64__zh355ej5cj694\\\\app\\\\resources\\\\app.asar\\\\node_modules\\\\ganache-core\\\\node_modules\\\\ethereumjs-vm\\\\dist\\\\runTx.js:74:9\\n    at C:\\\\Program Files\\\\WindowsApps\\\\Ganache_2.1.2.0_x64__zh355ej5cj694\\\\app\\\\resources\\\\app.asar\\\\node_modules\\\\ganache-core\\\\node_modules\\\\async\\\\dist\\\\async.js:969:16\\n    at next (C:\\\\Program Files\\\\WindowsApps\\\\Ganache_2.1.2.0_x64__zh355ej5cj694\\\\app\\\\resources\\\\app.asar\\\\node_modules\\\\ganache-core\\\\node_modules\\\\async\\\\dist\\\\async.js:5225:18)\\n    at C:\\\\Program Files\\\\WindowsApps\\\\Ganache_2.1.2.0_x64__zh355ej5cj694\\\\app\\\\resources\\\\app.asar\\\\node_modules\\\\ganache-core\\\\node_modules\\\\ethereumjs-vm\\\\dist\\\\state\\\\cache.js:160:13\\n    at C:\\\\Program Files\\\\WindowsApps\\\\Ganache_2.1.2.0_x64__zh355ej5cj694\\\\app\\\\resources\\\\app.asar\\\\node_modules\\\\ganache-core\\\\node_modules\\\\merkle-patricia-tree\\\\util.js:51:36\\n    at C:\\\\Program Files\\\\WindowsApps\\\\Ganache_2.1.2.0_x64__zh355ej5cj694\\\\app\\\\resources\\\\app.asar\\\\node_modules\\\\ganache-core\\\\node_modules\\\\merkle-patricia-tree\\\\node_modules\\\\async\\\\lib\\\\async.js:52:16\\n    at done (C:\\\\Program Files\\\\WindowsApps\\\\Ganache_2.1.2.0_x64__zh355ej5cj694\\\\app\\\\resources\\\\app.asar\\\\node_modules\\\\ganache-core\\\\node_modules\\\\merkle-patricia-tree\\\\node_modules\\\\async\\\\lib\\\\async.js:246:17)\\n    at C:\\\\Program Files\\\\WindowsApps\\\\Ganache_2.1.2.0_x64__zh355ej5cj694\\\\app\\\\resources\\\\app.asar\\\\node_modules\\\\ganache-core\\\\node_modules\\\\merkle-patricia-tree\\\\node_modules\\\\async\\\\lib\\\\async.js:44:16\\n    at C:\\\\Program Files\\\\WindowsApps\\\\Ganache_2.1.2.0_x64__zh355ej5cj694\\\\app\\\\resources\\\\app.asar\\\\node_modules\\\\ganache-core\\\\lib\\\\database\\\\levelupobjectadapter.js:110:7\\n    at C:\\\\Program Files\\\\WindowsApps\\\\Ganache_2.1.2.0_x64__zh355ej5cj694\\\\app\\\\resources\\\\app.asar\\\\node_modules\\\\ganache-core\\\\node_modules\\\\async\\\\dist\\\\async.js:473:16\\n    at iteratorCallback (C:\\\\Program Files\\\\WindowsApps\\\\Ganache_2.1.2.0_x64__zh355ej5cj694\\\\app\\\\resources\\\\app.asar\\\\node_modules\\\\ganache-core\\\\node_modules\\\\async\\\\dist\\\\async.js:1064:13)\\n    at C:\\\\Program Files\\\\WindowsApps\\\\Ganache_2.1.2.0_x64__zh355ej5cj694\\\\app\\\\resources\\\\app.asar\\\\node_modules\\\\ganache-core\\\\node_modules\\\\async\\\\dist\\\\async.js:969:16\\n    at C:\\\\Program Files\\\\WindowsApps\\\\Ganache_2.1.2.0_x64__zh355ej5cj694\\\\app\\\\resources\\\\app.asar\\\\node_modules\\\\ganache-core\\\\node_modules\\\\level-sublevel\\\\shell.js:53:51\\n    at C:\\\\Program Files\\\\WindowsApps\\\\Ganache_2.1.2.0_x64__zh355ej5cj694\\\\app\\\\resources\\\\app.asar\\\\node_modules\\\\ganache-core\\\\node_modules\\\\level-sublevel\\\\nut.js:109:13\\n    at C:\\\\Program Files\\\\WindowsApps\\\\Ganache_2.1.2.0_x64__zh355ej5cj694\\\\app\\\\resources\\\\app.asar\\\\node_modules\\\\ganache-core\\\\lib\\\\database\\\\filedown.js:64:7', 'name': 'Error'}}"
     ]
    }
   ],
   "source": [
    "# make the payment without consensus\n",
    "contract.functions.makePayment(request_index).transact()"
   ]
  },
  {
   "cell_type": "markdown",
   "metadata": {},
   "source": [
    "__*Success*__, the contract has not allowed payment to go through with only __2 out of 5 votes__."
   ]
  },
  {
   "cell_type": "markdown",
   "metadata": {},
   "source": [
    "Lets now verify that the contract does not allow the __same miner__ to vote __twice__ on the same request:"
   ]
  },
  {
   "cell_type": "code",
   "execution_count": 21,
   "metadata": {},
   "outputs": [
    {
     "ename": "ValueError",
     "evalue": "{'message': 'execution error: revert', 'code': -32000, 'data': {'stack': 'Error: execution error: revert\\n    at C:\\\\Program Files\\\\WindowsApps\\\\Ganache_2.1.2.0_x64__zh355ej5cj694\\\\app\\\\resources\\\\app.asar\\\\node_modules\\\\ganache-core\\\\lib\\\\utils\\\\gasEstimation.js:12:11\\n    at C:\\\\Program Files\\\\WindowsApps\\\\Ganache_2.1.2.0_x64__zh355ej5cj694\\\\app\\\\resources\\\\app.asar\\\\node_modules\\\\ganache-core\\\\node_modules\\\\ethereumjs-vm\\\\dist\\\\runTx.js:74:9\\n    at C:\\\\Program Files\\\\WindowsApps\\\\Ganache_2.1.2.0_x64__zh355ej5cj694\\\\app\\\\resources\\\\app.asar\\\\node_modules\\\\ganache-core\\\\node_modules\\\\async\\\\dist\\\\async.js:969:16\\n    at next (C:\\\\Program Files\\\\WindowsApps\\\\Ganache_2.1.2.0_x64__zh355ej5cj694\\\\app\\\\resources\\\\app.asar\\\\node_modules\\\\ganache-core\\\\node_modules\\\\async\\\\dist\\\\async.js:5225:18)\\n    at C:\\\\Program Files\\\\WindowsApps\\\\Ganache_2.1.2.0_x64__zh355ej5cj694\\\\app\\\\resources\\\\app.asar\\\\node_modules\\\\ganache-core\\\\node_modules\\\\ethereumjs-vm\\\\dist\\\\state\\\\cache.js:160:13\\n    at C:\\\\Program Files\\\\WindowsApps\\\\Ganache_2.1.2.0_x64__zh355ej5cj694\\\\app\\\\resources\\\\app.asar\\\\node_modules\\\\ganache-core\\\\node_modules\\\\merkle-patricia-tree\\\\util.js:51:36\\n    at C:\\\\Program Files\\\\WindowsApps\\\\Ganache_2.1.2.0_x64__zh355ej5cj694\\\\app\\\\resources\\\\app.asar\\\\node_modules\\\\ganache-core\\\\node_modules\\\\merkle-patricia-tree\\\\node_modules\\\\async\\\\lib\\\\async.js:52:16\\n    at done (C:\\\\Program Files\\\\WindowsApps\\\\Ganache_2.1.2.0_x64__zh355ej5cj694\\\\app\\\\resources\\\\app.asar\\\\node_modules\\\\ganache-core\\\\node_modules\\\\merkle-patricia-tree\\\\node_modules\\\\async\\\\lib\\\\async.js:246:17)\\n    at C:\\\\Program Files\\\\WindowsApps\\\\Ganache_2.1.2.0_x64__zh355ej5cj694\\\\app\\\\resources\\\\app.asar\\\\node_modules\\\\ganache-core\\\\node_modules\\\\merkle-patricia-tree\\\\node_modules\\\\async\\\\lib\\\\async.js:44:16\\n    at C:\\\\Program Files\\\\WindowsApps\\\\Ganache_2.1.2.0_x64__zh355ej5cj694\\\\app\\\\resources\\\\app.asar\\\\node_modules\\\\ganache-core\\\\lib\\\\database\\\\levelupobjectadapter.js:110:7\\n    at C:\\\\Program Files\\\\WindowsApps\\\\Ganache_2.1.2.0_x64__zh355ej5cj694\\\\app\\\\resources\\\\app.asar\\\\node_modules\\\\ganache-core\\\\node_modules\\\\async\\\\dist\\\\async.js:473:16\\n    at iteratorCallback (C:\\\\Program Files\\\\WindowsApps\\\\Ganache_2.1.2.0_x64__zh355ej5cj694\\\\app\\\\resources\\\\app.asar\\\\node_modules\\\\ganache-core\\\\node_modules\\\\async\\\\dist\\\\async.js:1064:13)\\n    at C:\\\\Program Files\\\\WindowsApps\\\\Ganache_2.1.2.0_x64__zh355ej5cj694\\\\app\\\\resources\\\\app.asar\\\\node_modules\\\\ganache-core\\\\node_modules\\\\async\\\\dist\\\\async.js:969:16\\n    at C:\\\\Program Files\\\\WindowsApps\\\\Ganache_2.1.2.0_x64__zh355ej5cj694\\\\app\\\\resources\\\\app.asar\\\\node_modules\\\\ganache-core\\\\node_modules\\\\level-sublevel\\\\shell.js:53:51\\n    at C:\\\\Program Files\\\\WindowsApps\\\\Ganache_2.1.2.0_x64__zh355ej5cj694\\\\app\\\\resources\\\\app.asar\\\\node_modules\\\\ganache-core\\\\node_modules\\\\level-sublevel\\\\nut.js:109:13\\n    at C:\\\\Program Files\\\\WindowsApps\\\\Ganache_2.1.2.0_x64__zh355ej5cj694\\\\app\\\\resources\\\\app.asar\\\\node_modules\\\\ganache-core\\\\lib\\\\database\\\\filedown.js:64:7', 'name': 'Error'}}",
     "output_type": "error",
     "traceback": [
      "\u001b[1;31m---------------------------------------------------------------------------\u001b[0m",
      "\u001b[1;31mValueError\u001b[0m                                Traceback (most recent call last)",
      "\u001b[1;32m<ipython-input-21-4ee46ef6d923>\u001b[0m in \u001b[0;36m<module>\u001b[1;34m\u001b[0m\n\u001b[0;32m      1\u001b[0m \u001b[1;31m# try voting with an already voted account\u001b[0m\u001b[1;33m\u001b[0m\u001b[1;33m\u001b[0m\u001b[1;33m\u001b[0m\u001b[0m\n\u001b[1;32m----> 2\u001b[1;33m \u001b[0mcontract\u001b[0m\u001b[1;33m.\u001b[0m\u001b[0mfunctions\u001b[0m\u001b[1;33m.\u001b[0m\u001b[0mvoteForPaymentRequest\u001b[0m\u001b[1;33m(\u001b[0m\u001b[0mrequest_index\u001b[0m\u001b[1;33m)\u001b[0m\u001b[1;33m.\u001b[0m\u001b[0mtransact\u001b[0m\u001b[1;33m(\u001b[0m\u001b[1;33m{\u001b[0m\u001b[1;34m'from'\u001b[0m\u001b[1;33m:\u001b[0m \u001b[0mweb3\u001b[0m\u001b[1;33m.\u001b[0m\u001b[0meth\u001b[0m\u001b[1;33m.\u001b[0m\u001b[0maccounts\u001b[0m\u001b[1;33m[\u001b[0m\u001b[1;36m6\u001b[0m\u001b[1;33m]\u001b[0m\u001b[1;33m}\u001b[0m\u001b[1;33m)\u001b[0m\u001b[1;33m\u001b[0m\u001b[1;33m\u001b[0m\u001b[0m\n\u001b[0m",
      "\u001b[1;32mc:\\users\\garde\\pycharmprojects\\ngo_blockchain\\venv\\lib\\site-packages\\web3\\contract.py\u001b[0m in \u001b[0;36mtransact\u001b[1;34m(self, transaction)\u001b[0m\n\u001b[0;32m    938\u001b[0m             \u001b[0mself\u001b[0m\u001b[1;33m.\u001b[0m\u001b[0mabi\u001b[0m\u001b[1;33m,\u001b[0m\u001b[1;33m\u001b[0m\u001b[1;33m\u001b[0m\u001b[0m\n\u001b[0;32m    939\u001b[0m             \u001b[1;33m*\u001b[0m\u001b[0mself\u001b[0m\u001b[1;33m.\u001b[0m\u001b[0margs\u001b[0m\u001b[1;33m,\u001b[0m\u001b[1;33m\u001b[0m\u001b[1;33m\u001b[0m\u001b[0m\n\u001b[1;32m--> 940\u001b[1;33m             \u001b[1;33m**\u001b[0m\u001b[0mself\u001b[0m\u001b[1;33m.\u001b[0m\u001b[0mkwargs\u001b[0m\u001b[1;33m\u001b[0m\u001b[1;33m\u001b[0m\u001b[0m\n\u001b[0m\u001b[0;32m    941\u001b[0m         )\n\u001b[0;32m    942\u001b[0m \u001b[1;33m\u001b[0m\u001b[0m\n",
      "\u001b[1;32mc:\\users\\garde\\pycharmprojects\\ngo_blockchain\\venv\\lib\\site-packages\\web3\\contract.py\u001b[0m in \u001b[0;36mtransact_with_contract_function\u001b[1;34m(address, web3, function_name, transaction, contract_abi, fn_abi, *args, **kwargs)\u001b[0m\n\u001b[0;32m   1512\u001b[0m     )\n\u001b[0;32m   1513\u001b[0m \u001b[1;33m\u001b[0m\u001b[0m\n\u001b[1;32m-> 1514\u001b[1;33m     \u001b[0mtxn_hash\u001b[0m \u001b[1;33m=\u001b[0m \u001b[0mweb3\u001b[0m\u001b[1;33m.\u001b[0m\u001b[0meth\u001b[0m\u001b[1;33m.\u001b[0m\u001b[0msendTransaction\u001b[0m\u001b[1;33m(\u001b[0m\u001b[0mtransact_transaction\u001b[0m\u001b[1;33m)\u001b[0m\u001b[1;33m\u001b[0m\u001b[1;33m\u001b[0m\u001b[0m\n\u001b[0m\u001b[0;32m   1515\u001b[0m     \u001b[1;32mreturn\u001b[0m \u001b[0mtxn_hash\u001b[0m\u001b[1;33m\u001b[0m\u001b[1;33m\u001b[0m\u001b[0m\n\u001b[0;32m   1516\u001b[0m \u001b[1;33m\u001b[0m\u001b[0m\n",
      "\u001b[1;32mc:\\users\\garde\\pycharmprojects\\ngo_blockchain\\venv\\lib\\site-packages\\web3\\eth.py\u001b[0m in \u001b[0;36msendTransaction\u001b[1;34m(self, transaction)\u001b[0m\n\u001b[0;32m    375\u001b[0m                 \u001b[0mtransaction\u001b[0m\u001b[1;33m,\u001b[0m\u001b[1;33m\u001b[0m\u001b[1;33m\u001b[0m\u001b[0m\n\u001b[0;32m    376\u001b[0m                 \u001b[1;34m'gas'\u001b[0m\u001b[1;33m,\u001b[0m\u001b[1;33m\u001b[0m\u001b[1;33m\u001b[0m\u001b[0m\n\u001b[1;32m--> 377\u001b[1;33m                 \u001b[0mget_buffered_gas_estimate\u001b[0m\u001b[1;33m(\u001b[0m\u001b[0mself\u001b[0m\u001b[1;33m.\u001b[0m\u001b[0mweb3\u001b[0m\u001b[1;33m,\u001b[0m \u001b[0mtransaction\u001b[0m\u001b[1;33m)\u001b[0m\u001b[1;33m,\u001b[0m\u001b[1;33m\u001b[0m\u001b[1;33m\u001b[0m\u001b[0m\n\u001b[0m\u001b[0;32m    378\u001b[0m             )\n\u001b[0;32m    379\u001b[0m \u001b[1;33m\u001b[0m\u001b[0m\n",
      "\u001b[1;32mc:\\users\\garde\\pycharmprojects\\ngo_blockchain\\venv\\lib\\site-packages\\web3\\_utils\\transactions.py\u001b[0m in \u001b[0;36mget_buffered_gas_estimate\u001b[1;34m(web3, transaction, gas_buffer)\u001b[0m\n\u001b[0;32m    113\u001b[0m     \u001b[0mgas_estimate_transaction\u001b[0m \u001b[1;33m=\u001b[0m \u001b[0mdict\u001b[0m\u001b[1;33m(\u001b[0m\u001b[1;33m**\u001b[0m\u001b[0mtransaction\u001b[0m\u001b[1;33m)\u001b[0m\u001b[1;33m\u001b[0m\u001b[1;33m\u001b[0m\u001b[0m\n\u001b[0;32m    114\u001b[0m \u001b[1;33m\u001b[0m\u001b[0m\n\u001b[1;32m--> 115\u001b[1;33m     \u001b[0mgas_estimate\u001b[0m \u001b[1;33m=\u001b[0m \u001b[0mweb3\u001b[0m\u001b[1;33m.\u001b[0m\u001b[0meth\u001b[0m\u001b[1;33m.\u001b[0m\u001b[0mestimateGas\u001b[0m\u001b[1;33m(\u001b[0m\u001b[0mgas_estimate_transaction\u001b[0m\u001b[1;33m)\u001b[0m\u001b[1;33m\u001b[0m\u001b[1;33m\u001b[0m\u001b[0m\n\u001b[0m\u001b[0;32m    116\u001b[0m \u001b[1;33m\u001b[0m\u001b[0m\n\u001b[0;32m    117\u001b[0m     \u001b[0mgas_limit\u001b[0m \u001b[1;33m=\u001b[0m \u001b[0mget_block_gas_limit\u001b[0m\u001b[1;33m(\u001b[0m\u001b[0mweb3\u001b[0m\u001b[1;33m)\u001b[0m\u001b[1;33m\u001b[0m\u001b[1;33m\u001b[0m\u001b[0m\n",
      "\u001b[1;32mc:\\users\\garde\\pycharmprojects\\ngo_blockchain\\venv\\lib\\site-packages\\web3\\eth.py\u001b[0m in \u001b[0;36mestimateGas\u001b[1;34m(self, transaction, block_identifier)\u001b[0m\n\u001b[0;32m    439\u001b[0m         return self.web3.manager.request_blocking(\n\u001b[0;32m    440\u001b[0m             \u001b[0mRPC\u001b[0m\u001b[1;33m.\u001b[0m\u001b[0meth_estimateGas\u001b[0m\u001b[1;33m,\u001b[0m\u001b[1;33m\u001b[0m\u001b[1;33m\u001b[0m\u001b[0m\n\u001b[1;32m--> 441\u001b[1;33m             \u001b[0mparams\u001b[0m\u001b[1;33m,\u001b[0m\u001b[1;33m\u001b[0m\u001b[1;33m\u001b[0m\u001b[0m\n\u001b[0m\u001b[0;32m    442\u001b[0m         )\n\u001b[0;32m    443\u001b[0m \u001b[1;33m\u001b[0m\u001b[0m\n",
      "\u001b[1;32mc:\\users\\garde\\pycharmprojects\\ngo_blockchain\\venv\\lib\\site-packages\\web3\\manager.py\u001b[0m in \u001b[0;36mrequest_blocking\u001b[1;34m(self, method, params, error_formatters)\u001b[0m\n\u001b[0;32m    150\u001b[0m         \u001b[1;32mif\u001b[0m \u001b[1;34m\"error\"\u001b[0m \u001b[1;32min\u001b[0m \u001b[0mresponse\u001b[0m\u001b[1;33m:\u001b[0m\u001b[1;33m\u001b[0m\u001b[1;33m\u001b[0m\u001b[0m\n\u001b[0;32m    151\u001b[0m             \u001b[0mapply_error_formatters\u001b[0m\u001b[1;33m(\u001b[0m\u001b[0merror_formatters\u001b[0m\u001b[1;33m,\u001b[0m \u001b[0mresponse\u001b[0m\u001b[1;33m)\u001b[0m\u001b[1;33m\u001b[0m\u001b[1;33m\u001b[0m\u001b[0m\n\u001b[1;32m--> 152\u001b[1;33m             \u001b[1;32mraise\u001b[0m \u001b[0mValueError\u001b[0m\u001b[1;33m(\u001b[0m\u001b[0mresponse\u001b[0m\u001b[1;33m[\u001b[0m\u001b[1;34m\"error\"\u001b[0m\u001b[1;33m]\u001b[0m\u001b[1;33m)\u001b[0m\u001b[1;33m\u001b[0m\u001b[1;33m\u001b[0m\u001b[0m\n\u001b[0m\u001b[0;32m    153\u001b[0m \u001b[1;33m\u001b[0m\u001b[0m\n\u001b[0;32m    154\u001b[0m         \u001b[1;32mreturn\u001b[0m \u001b[0mresponse\u001b[0m\u001b[1;33m[\u001b[0m\u001b[1;34m'result'\u001b[0m\u001b[1;33m]\u001b[0m\u001b[1;33m\u001b[0m\u001b[1;33m\u001b[0m\u001b[0m\n",
      "\u001b[1;31mValueError\u001b[0m: {'message': 'execution error: revert', 'code': -32000, 'data': {'stack': 'Error: execution error: revert\\n    at C:\\\\Program Files\\\\WindowsApps\\\\Ganache_2.1.2.0_x64__zh355ej5cj694\\\\app\\\\resources\\\\app.asar\\\\node_modules\\\\ganache-core\\\\lib\\\\utils\\\\gasEstimation.js:12:11\\n    at C:\\\\Program Files\\\\WindowsApps\\\\Ganache_2.1.2.0_x64__zh355ej5cj694\\\\app\\\\resources\\\\app.asar\\\\node_modules\\\\ganache-core\\\\node_modules\\\\ethereumjs-vm\\\\dist\\\\runTx.js:74:9\\n    at C:\\\\Program Files\\\\WindowsApps\\\\Ganache_2.1.2.0_x64__zh355ej5cj694\\\\app\\\\resources\\\\app.asar\\\\node_modules\\\\ganache-core\\\\node_modules\\\\async\\\\dist\\\\async.js:969:16\\n    at next (C:\\\\Program Files\\\\WindowsApps\\\\Ganache_2.1.2.0_x64__zh355ej5cj694\\\\app\\\\resources\\\\app.asar\\\\node_modules\\\\ganache-core\\\\node_modules\\\\async\\\\dist\\\\async.js:5225:18)\\n    at C:\\\\Program Files\\\\WindowsApps\\\\Ganache_2.1.2.0_x64__zh355ej5cj694\\\\app\\\\resources\\\\app.asar\\\\node_modules\\\\ganache-core\\\\node_modules\\\\ethereumjs-vm\\\\dist\\\\state\\\\cache.js:160:13\\n    at C:\\\\Program Files\\\\WindowsApps\\\\Ganache_2.1.2.0_x64__zh355ej5cj694\\\\app\\\\resources\\\\app.asar\\\\node_modules\\\\ganache-core\\\\node_modules\\\\merkle-patricia-tree\\\\util.js:51:36\\n    at C:\\\\Program Files\\\\WindowsApps\\\\Ganache_2.1.2.0_x64__zh355ej5cj694\\\\app\\\\resources\\\\app.asar\\\\node_modules\\\\ganache-core\\\\node_modules\\\\merkle-patricia-tree\\\\node_modules\\\\async\\\\lib\\\\async.js:52:16\\n    at done (C:\\\\Program Files\\\\WindowsApps\\\\Ganache_2.1.2.0_x64__zh355ej5cj694\\\\app\\\\resources\\\\app.asar\\\\node_modules\\\\ganache-core\\\\node_modules\\\\merkle-patricia-tree\\\\node_modules\\\\async\\\\lib\\\\async.js:246:17)\\n    at C:\\\\Program Files\\\\WindowsApps\\\\Ganache_2.1.2.0_x64__zh355ej5cj694\\\\app\\\\resources\\\\app.asar\\\\node_modules\\\\ganache-core\\\\node_modules\\\\merkle-patricia-tree\\\\node_modules\\\\async\\\\lib\\\\async.js:44:16\\n    at C:\\\\Program Files\\\\WindowsApps\\\\Ganache_2.1.2.0_x64__zh355ej5cj694\\\\app\\\\resources\\\\app.asar\\\\node_modules\\\\ganache-core\\\\lib\\\\database\\\\levelupobjectadapter.js:110:7\\n    at C:\\\\Program Files\\\\WindowsApps\\\\Ganache_2.1.2.0_x64__zh355ej5cj694\\\\app\\\\resources\\\\app.asar\\\\node_modules\\\\ganache-core\\\\node_modules\\\\async\\\\dist\\\\async.js:473:16\\n    at iteratorCallback (C:\\\\Program Files\\\\WindowsApps\\\\Ganache_2.1.2.0_x64__zh355ej5cj694\\\\app\\\\resources\\\\app.asar\\\\node_modules\\\\ganache-core\\\\node_modules\\\\async\\\\dist\\\\async.js:1064:13)\\n    at C:\\\\Program Files\\\\WindowsApps\\\\Ganache_2.1.2.0_x64__zh355ej5cj694\\\\app\\\\resources\\\\app.asar\\\\node_modules\\\\ganache-core\\\\node_modules\\\\async\\\\dist\\\\async.js:969:16\\n    at C:\\\\Program Files\\\\WindowsApps\\\\Ganache_2.1.2.0_x64__zh355ej5cj694\\\\app\\\\resources\\\\app.asar\\\\node_modules\\\\ganache-core\\\\node_modules\\\\level-sublevel\\\\shell.js:53:51\\n    at C:\\\\Program Files\\\\WindowsApps\\\\Ganache_2.1.2.0_x64__zh355ej5cj694\\\\app\\\\resources\\\\app.asar\\\\node_modules\\\\ganache-core\\\\node_modules\\\\level-sublevel\\\\nut.js:109:13\\n    at C:\\\\Program Files\\\\WindowsApps\\\\Ganache_2.1.2.0_x64__zh355ej5cj694\\\\app\\\\resources\\\\app.asar\\\\node_modules\\\\ganache-core\\\\lib\\\\database\\\\filedown.js:64:7', 'name': 'Error'}}"
     ]
    }
   ],
   "source": [
    "# try voting with an already voted account\n",
    "contract.functions.voteForPaymentRequest(request_index).transact({'from': web3.eth.accounts[6]})"
   ]
  },
  {
   "cell_type": "markdown",
   "metadata": {},
   "source": [
    "Again, contract does not permit a miner to __vote twice__ on the same request."
   ]
  },
  {
   "cell_type": "markdown",
   "metadata": {},
   "source": [
    "Finally, lets add __votes__ to achieve *consensus*, proceed with payment and verify that request has __status completed == True__. "
   ]
  },
  {
   "cell_type": "code",
   "execution_count": 22,
   "metadata": {},
   "outputs": [
    {
     "data": {
      "text/plain": [
       "['Payment of breezeblocks for the well construction.',\n",
       " 6996757271658855424,\n",
       " '0x665B392ec1573dBe11B6cB00e3285cFCc43E9022',\n",
       " True,\n",
       " 4]"
      ]
     },
     "execution_count": 22,
     "metadata": {},
     "output_type": "execute_result"
    }
   ],
   "source": [
    "# add votes\n",
    "for i in [7, 8]: # unused whitelisted minors to achieve a 4 out of 5 consensus\n",
    "    contract.functions.voteForPaymentRequest(request_index).transact({'from': web3.eth.accounts[i]})\n",
    "\n",
    "# now make the payment\n",
    "contract.functions.makePayment(request_index).transact()\n",
    "\n",
    "# check if request has been set to completed\n",
    "contract.functions.paymentRequests(request_index).call()"
   ]
  },
  {
   "cell_type": "markdown",
   "metadata": {},
   "source": [
    "Finally, lets make sure the __recipient address__ has the newly acquired payment on their account:"
   ]
  },
  {
   "cell_type": "code",
   "execution_count": 26,
   "metadata": {},
   "outputs": [
    {
     "name": "stdout",
     "output_type": "stream",
     "text": [
      "New Blance: 71.267686065617286912\n",
      "Old balance: 64.270928793958431488\n",
      "Difference is: 6.996757271658855424 and payment value was: 6996757271658855424\n"
     ]
    }
   ],
   "source": [
    "# check new value of account 2 recipient\n",
    "new_value = web3.fromWei(web3.eth.getBalance(web3.eth.accounts[2]), 'ether')\n",
    "\n",
    "# check difference\n",
    "temp_diff = new_value - old_value\n",
    "\n",
    "print('New Blance: ' + str(new_value) + '\\n' + 'Old balance: ' + str(old_value))\n",
    "print('Difference is: ' + str(temp_diff) + ' and payment value was: ' + str(value))"
   ]
  },
  {
   "cell_type": "markdown",
   "metadata": {},
   "source": [
    "*All contract functions and callbacks have now been verified.*"
   ]
  }
 ],
 "metadata": {
  "kernelspec": {
   "display_name": "Python 3",
   "language": "python",
   "name": "python3"
  },
  "language_info": {
   "codemirror_mode": {
    "name": "ipython",
    "version": 3
   },
   "file_extension": ".py",
   "mimetype": "text/x-python",
   "name": "python",
   "nbconvert_exporter": "python",
   "pygments_lexer": "ipython3",
   "version": "3.6.8"
  }
 },
 "nbformat": 4,
 "nbformat_minor": 2
}
